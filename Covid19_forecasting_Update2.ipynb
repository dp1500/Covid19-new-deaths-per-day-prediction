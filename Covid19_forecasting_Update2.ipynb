{
  "nbformat": 4,
  "nbformat_minor": 0,
  "metadata": {
    "colab": {
      "provenance": [],
      "collapsed_sections": [],
      "authorship_tag": "ABX9TyPlt933x9SLhkr84pn6so4m",
      "include_colab_link": true
    },
    "kernelspec": {
      "name": "python3",
      "display_name": "Python 3"
    },
    "language_info": {
      "name": "python"
    }
  },
  "cells": [
    {
      "cell_type": "markdown",
      "metadata": {
        "id": "view-in-github",
        "colab_type": "text"
      },
      "source": [
        "<a href=\"https://colab.research.google.com/github/dp1500/Covid19-new-deaths-per-day-prediction/blob/main/Covid19_forecasting_Update2.ipynb\" target=\"_parent\"><img src=\"https://colab.research.google.com/assets/colab-badge.svg\" alt=\"Open In Colab\"/></a>"
      ]
    },
    {
      "cell_type": "code",
      "execution_count": null,
      "metadata": {
        "id": "TWpxNs4EEA5Y"
      },
      "outputs": [],
      "source": []
    },
    {
      "cell_type": "code",
      "metadata": {
        "id": "OnLTSu0GHiAq"
      },
      "source": [
        "import pandas as pd\n",
        "import numpy as np\n",
        "from matplotlib import pyplot as plt\n",
        "from sklearn.metrics import mean_absolute_error\n",
        "from pandas.plotting import autocorrelation_plot\n",
        "from statsmodels.tsa.arima_model import ARIMA"
      ],
      "execution_count": 34,
      "outputs": []
    },
    {
      "cell_type": "code",
      "metadata": {
        "colab": {
          "base_uri": "https://localhost:8080/",
          "height": 288
        },
        "id": "q7dA_DmuOuRA",
        "outputId": "88dc5116-3fb7-4f55-c2ea-d6080c65fdf3"
      },
      "source": [
        "data = pd.read_csv('https://drive.google.com/uc?id=1PzAcx0rnsAs96qnAdH9is8JMF9WUHj_W')\n",
        "data.head()"
      ],
      "execution_count": 35,
      "outputs": [
        {
          "output_type": "execute_result",
          "data": {
            "text/plain": [
              "  iso_code location       date  new_deaths  new_cases  new_tests  \\\n",
              "0      IND    India  1/16/2021         181      15144     803090   \n",
              "1      IND    India  1/17/2021         145      13788     779377   \n",
              "2      IND    India  1/18/2021         137      10050     548168   \n",
              "3      IND    India  1/19/2021         162      13816     709791   \n",
              "4      IND    India  1/20/2021         151      15244     764120   \n",
              "\n",
              "   new_vaccinations  new_cases_per_thousand  new_tests_per-thousand  \\\n",
              "0            191181                  15.144                 803.090   \n",
              "1             33120                  13.788                 779.377   \n",
              "2            229748                  10.050                 548.168   \n",
              "3            220786                  13.816                 709.791   \n",
              "4            131649                  15.244                 764.120   \n",
              "\n",
              "   new_vaccinations_per_thousand  stringency_index  \n",
              "0                        191.181             68.98  \n",
              "1                         33.120             68.98  \n",
              "2                        229.748             68.98  \n",
              "3                        220.786             68.98  \n",
              "4                        131.649             68.98  "
            ],
            "text/html": [
              "\n",
              "  <div id=\"df-d04b06d3-f238-4257-80bc-9e3fa4f72ca4\">\n",
              "    <div class=\"colab-df-container\">\n",
              "      <div>\n",
              "<style scoped>\n",
              "    .dataframe tbody tr th:only-of-type {\n",
              "        vertical-align: middle;\n",
              "    }\n",
              "\n",
              "    .dataframe tbody tr th {\n",
              "        vertical-align: top;\n",
              "    }\n",
              "\n",
              "    .dataframe thead th {\n",
              "        text-align: right;\n",
              "    }\n",
              "</style>\n",
              "<table border=\"1\" class=\"dataframe\">\n",
              "  <thead>\n",
              "    <tr style=\"text-align: right;\">\n",
              "      <th></th>\n",
              "      <th>iso_code</th>\n",
              "      <th>location</th>\n",
              "      <th>date</th>\n",
              "      <th>new_deaths</th>\n",
              "      <th>new_cases</th>\n",
              "      <th>new_tests</th>\n",
              "      <th>new_vaccinations</th>\n",
              "      <th>new_cases_per_thousand</th>\n",
              "      <th>new_tests_per-thousand</th>\n",
              "      <th>new_vaccinations_per_thousand</th>\n",
              "      <th>stringency_index</th>\n",
              "    </tr>\n",
              "  </thead>\n",
              "  <tbody>\n",
              "    <tr>\n",
              "      <th>0</th>\n",
              "      <td>IND</td>\n",
              "      <td>India</td>\n",
              "      <td>1/16/2021</td>\n",
              "      <td>181</td>\n",
              "      <td>15144</td>\n",
              "      <td>803090</td>\n",
              "      <td>191181</td>\n",
              "      <td>15.144</td>\n",
              "      <td>803.090</td>\n",
              "      <td>191.181</td>\n",
              "      <td>68.98</td>\n",
              "    </tr>\n",
              "    <tr>\n",
              "      <th>1</th>\n",
              "      <td>IND</td>\n",
              "      <td>India</td>\n",
              "      <td>1/17/2021</td>\n",
              "      <td>145</td>\n",
              "      <td>13788</td>\n",
              "      <td>779377</td>\n",
              "      <td>33120</td>\n",
              "      <td>13.788</td>\n",
              "      <td>779.377</td>\n",
              "      <td>33.120</td>\n",
              "      <td>68.98</td>\n",
              "    </tr>\n",
              "    <tr>\n",
              "      <th>2</th>\n",
              "      <td>IND</td>\n",
              "      <td>India</td>\n",
              "      <td>1/18/2021</td>\n",
              "      <td>137</td>\n",
              "      <td>10050</td>\n",
              "      <td>548168</td>\n",
              "      <td>229748</td>\n",
              "      <td>10.050</td>\n",
              "      <td>548.168</td>\n",
              "      <td>229.748</td>\n",
              "      <td>68.98</td>\n",
              "    </tr>\n",
              "    <tr>\n",
              "      <th>3</th>\n",
              "      <td>IND</td>\n",
              "      <td>India</td>\n",
              "      <td>1/19/2021</td>\n",
              "      <td>162</td>\n",
              "      <td>13816</td>\n",
              "      <td>709791</td>\n",
              "      <td>220786</td>\n",
              "      <td>13.816</td>\n",
              "      <td>709.791</td>\n",
              "      <td>220.786</td>\n",
              "      <td>68.98</td>\n",
              "    </tr>\n",
              "    <tr>\n",
              "      <th>4</th>\n",
              "      <td>IND</td>\n",
              "      <td>India</td>\n",
              "      <td>1/20/2021</td>\n",
              "      <td>151</td>\n",
              "      <td>15244</td>\n",
              "      <td>764120</td>\n",
              "      <td>131649</td>\n",
              "      <td>15.244</td>\n",
              "      <td>764.120</td>\n",
              "      <td>131.649</td>\n",
              "      <td>68.98</td>\n",
              "    </tr>\n",
              "  </tbody>\n",
              "</table>\n",
              "</div>\n",
              "      <button class=\"colab-df-convert\" onclick=\"convertToInteractive('df-d04b06d3-f238-4257-80bc-9e3fa4f72ca4')\"\n",
              "              title=\"Convert this dataframe to an interactive table.\"\n",
              "              style=\"display:none;\">\n",
              "        \n",
              "  <svg xmlns=\"http://www.w3.org/2000/svg\" height=\"24px\"viewBox=\"0 0 24 24\"\n",
              "       width=\"24px\">\n",
              "    <path d=\"M0 0h24v24H0V0z\" fill=\"none\"/>\n",
              "    <path d=\"M18.56 5.44l.94 2.06.94-2.06 2.06-.94-2.06-.94-.94-2.06-.94 2.06-2.06.94zm-11 1L8.5 8.5l.94-2.06 2.06-.94-2.06-.94L8.5 2.5l-.94 2.06-2.06.94zm10 10l.94 2.06.94-2.06 2.06-.94-2.06-.94-.94-2.06-.94 2.06-2.06.94z\"/><path d=\"M17.41 7.96l-1.37-1.37c-.4-.4-.92-.59-1.43-.59-.52 0-1.04.2-1.43.59L10.3 9.45l-7.72 7.72c-.78.78-.78 2.05 0 2.83L4 21.41c.39.39.9.59 1.41.59.51 0 1.02-.2 1.41-.59l7.78-7.78 2.81-2.81c.8-.78.8-2.07 0-2.86zM5.41 20L4 18.59l7.72-7.72 1.47 1.35L5.41 20z\"/>\n",
              "  </svg>\n",
              "      </button>\n",
              "      \n",
              "  <style>\n",
              "    .colab-df-container {\n",
              "      display:flex;\n",
              "      flex-wrap:wrap;\n",
              "      gap: 12px;\n",
              "    }\n",
              "\n",
              "    .colab-df-convert {\n",
              "      background-color: #E8F0FE;\n",
              "      border: none;\n",
              "      border-radius: 50%;\n",
              "      cursor: pointer;\n",
              "      display: none;\n",
              "      fill: #1967D2;\n",
              "      height: 32px;\n",
              "      padding: 0 0 0 0;\n",
              "      width: 32px;\n",
              "    }\n",
              "\n",
              "    .colab-df-convert:hover {\n",
              "      background-color: #E2EBFA;\n",
              "      box-shadow: 0px 1px 2px rgba(60, 64, 67, 0.3), 0px 1px 3px 1px rgba(60, 64, 67, 0.15);\n",
              "      fill: #174EA6;\n",
              "    }\n",
              "\n",
              "    [theme=dark] .colab-df-convert {\n",
              "      background-color: #3B4455;\n",
              "      fill: #D2E3FC;\n",
              "    }\n",
              "\n",
              "    [theme=dark] .colab-df-convert:hover {\n",
              "      background-color: #434B5C;\n",
              "      box-shadow: 0px 1px 3px 1px rgba(0, 0, 0, 0.15);\n",
              "      filter: drop-shadow(0px 1px 2px rgba(0, 0, 0, 0.3));\n",
              "      fill: #FFFFFF;\n",
              "    }\n",
              "  </style>\n",
              "\n",
              "      <script>\n",
              "        const buttonEl =\n",
              "          document.querySelector('#df-d04b06d3-f238-4257-80bc-9e3fa4f72ca4 button.colab-df-convert');\n",
              "        buttonEl.style.display =\n",
              "          google.colab.kernel.accessAllowed ? 'block' : 'none';\n",
              "\n",
              "        async function convertToInteractive(key) {\n",
              "          const element = document.querySelector('#df-d04b06d3-f238-4257-80bc-9e3fa4f72ca4');\n",
              "          const dataTable =\n",
              "            await google.colab.kernel.invokeFunction('convertToInteractive',\n",
              "                                                     [key], {});\n",
              "          if (!dataTable) return;\n",
              "\n",
              "          const docLinkHtml = 'Like what you see? Visit the ' +\n",
              "            '<a target=\"_blank\" href=https://colab.research.google.com/notebooks/data_table.ipynb>data table notebook</a>'\n",
              "            + ' to learn more about interactive tables.';\n",
              "          element.innerHTML = '';\n",
              "          dataTable['output_type'] = 'display_data';\n",
              "          await google.colab.output.renderOutput(dataTable, element);\n",
              "          const docLink = document.createElement('div');\n",
              "          docLink.innerHTML = docLinkHtml;\n",
              "          element.appendChild(docLink);\n",
              "        }\n",
              "      </script>\n",
              "    </div>\n",
              "  </div>\n",
              "  "
            ]
          },
          "metadata": {},
          "execution_count": 35
        }
      ]
    },
    {
      "cell_type": "code",
      "source": [
        "df = data[['new_cases', 'new_tests', 'new_vaccinations','stringency_index']]"
      ],
      "metadata": {
        "id": "TYM1pgVdYMrD"
      },
      "execution_count": 36,
      "outputs": []
    },
    {
      "cell_type": "code",
      "source": [
        "df['new_deaths'] = data['new_deaths']\n",
        "df.head()"
      ],
      "metadata": {
        "colab": {
          "base_uri": "https://localhost:8080/",
          "height": 310
        },
        "id": "pUxw58oeYdDx",
        "outputId": "fadcf122-fefa-4538-f762-37efc1081205"
      },
      "execution_count": 37,
      "outputs": [
        {
          "output_type": "stream",
          "name": "stderr",
          "text": [
            "/usr/local/lib/python3.7/dist-packages/ipykernel_launcher.py:1: SettingWithCopyWarning: \n",
            "A value is trying to be set on a copy of a slice from a DataFrame.\n",
            "Try using .loc[row_indexer,col_indexer] = value instead\n",
            "\n",
            "See the caveats in the documentation: https://pandas.pydata.org/pandas-docs/stable/user_guide/indexing.html#returning-a-view-versus-a-copy\n",
            "  \"\"\"Entry point for launching an IPython kernel.\n"
          ]
        },
        {
          "output_type": "execute_result",
          "data": {
            "text/plain": [
              "   new_cases  new_tests  new_vaccinations  stringency_index  new_deaths\n",
              "0      15144     803090            191181             68.98         181\n",
              "1      13788     779377             33120             68.98         145\n",
              "2      10050     548168            229748             68.98         137\n",
              "3      13816     709791            220786             68.98         162\n",
              "4      15244     764120            131649             68.98         151"
            ],
            "text/html": [
              "\n",
              "  <div id=\"df-9637e503-e971-4ccb-bc7e-50e7eb0374f6\">\n",
              "    <div class=\"colab-df-container\">\n",
              "      <div>\n",
              "<style scoped>\n",
              "    .dataframe tbody tr th:only-of-type {\n",
              "        vertical-align: middle;\n",
              "    }\n",
              "\n",
              "    .dataframe tbody tr th {\n",
              "        vertical-align: top;\n",
              "    }\n",
              "\n",
              "    .dataframe thead th {\n",
              "        text-align: right;\n",
              "    }\n",
              "</style>\n",
              "<table border=\"1\" class=\"dataframe\">\n",
              "  <thead>\n",
              "    <tr style=\"text-align: right;\">\n",
              "      <th></th>\n",
              "      <th>new_cases</th>\n",
              "      <th>new_tests</th>\n",
              "      <th>new_vaccinations</th>\n",
              "      <th>stringency_index</th>\n",
              "      <th>new_deaths</th>\n",
              "    </tr>\n",
              "  </thead>\n",
              "  <tbody>\n",
              "    <tr>\n",
              "      <th>0</th>\n",
              "      <td>15144</td>\n",
              "      <td>803090</td>\n",
              "      <td>191181</td>\n",
              "      <td>68.98</td>\n",
              "      <td>181</td>\n",
              "    </tr>\n",
              "    <tr>\n",
              "      <th>1</th>\n",
              "      <td>13788</td>\n",
              "      <td>779377</td>\n",
              "      <td>33120</td>\n",
              "      <td>68.98</td>\n",
              "      <td>145</td>\n",
              "    </tr>\n",
              "    <tr>\n",
              "      <th>2</th>\n",
              "      <td>10050</td>\n",
              "      <td>548168</td>\n",
              "      <td>229748</td>\n",
              "      <td>68.98</td>\n",
              "      <td>137</td>\n",
              "    </tr>\n",
              "    <tr>\n",
              "      <th>3</th>\n",
              "      <td>13816</td>\n",
              "      <td>709791</td>\n",
              "      <td>220786</td>\n",
              "      <td>68.98</td>\n",
              "      <td>162</td>\n",
              "    </tr>\n",
              "    <tr>\n",
              "      <th>4</th>\n",
              "      <td>15244</td>\n",
              "      <td>764120</td>\n",
              "      <td>131649</td>\n",
              "      <td>68.98</td>\n",
              "      <td>151</td>\n",
              "    </tr>\n",
              "  </tbody>\n",
              "</table>\n",
              "</div>\n",
              "      <button class=\"colab-df-convert\" onclick=\"convertToInteractive('df-9637e503-e971-4ccb-bc7e-50e7eb0374f6')\"\n",
              "              title=\"Convert this dataframe to an interactive table.\"\n",
              "              style=\"display:none;\">\n",
              "        \n",
              "  <svg xmlns=\"http://www.w3.org/2000/svg\" height=\"24px\"viewBox=\"0 0 24 24\"\n",
              "       width=\"24px\">\n",
              "    <path d=\"M0 0h24v24H0V0z\" fill=\"none\"/>\n",
              "    <path d=\"M18.56 5.44l.94 2.06.94-2.06 2.06-.94-2.06-.94-.94-2.06-.94 2.06-2.06.94zm-11 1L8.5 8.5l.94-2.06 2.06-.94-2.06-.94L8.5 2.5l-.94 2.06-2.06.94zm10 10l.94 2.06.94-2.06 2.06-.94-2.06-.94-.94-2.06-.94 2.06-2.06.94z\"/><path d=\"M17.41 7.96l-1.37-1.37c-.4-.4-.92-.59-1.43-.59-.52 0-1.04.2-1.43.59L10.3 9.45l-7.72 7.72c-.78.78-.78 2.05 0 2.83L4 21.41c.39.39.9.59 1.41.59.51 0 1.02-.2 1.41-.59l7.78-7.78 2.81-2.81c.8-.78.8-2.07 0-2.86zM5.41 20L4 18.59l7.72-7.72 1.47 1.35L5.41 20z\"/>\n",
              "  </svg>\n",
              "      </button>\n",
              "      \n",
              "  <style>\n",
              "    .colab-df-container {\n",
              "      display:flex;\n",
              "      flex-wrap:wrap;\n",
              "      gap: 12px;\n",
              "    }\n",
              "\n",
              "    .colab-df-convert {\n",
              "      background-color: #E8F0FE;\n",
              "      border: none;\n",
              "      border-radius: 50%;\n",
              "      cursor: pointer;\n",
              "      display: none;\n",
              "      fill: #1967D2;\n",
              "      height: 32px;\n",
              "      padding: 0 0 0 0;\n",
              "      width: 32px;\n",
              "    }\n",
              "\n",
              "    .colab-df-convert:hover {\n",
              "      background-color: #E2EBFA;\n",
              "      box-shadow: 0px 1px 2px rgba(60, 64, 67, 0.3), 0px 1px 3px 1px rgba(60, 64, 67, 0.15);\n",
              "      fill: #174EA6;\n",
              "    }\n",
              "\n",
              "    [theme=dark] .colab-df-convert {\n",
              "      background-color: #3B4455;\n",
              "      fill: #D2E3FC;\n",
              "    }\n",
              "\n",
              "    [theme=dark] .colab-df-convert:hover {\n",
              "      background-color: #434B5C;\n",
              "      box-shadow: 0px 1px 3px 1px rgba(0, 0, 0, 0.15);\n",
              "      filter: drop-shadow(0px 1px 2px rgba(0, 0, 0, 0.3));\n",
              "      fill: #FFFFFF;\n",
              "    }\n",
              "  </style>\n",
              "\n",
              "      <script>\n",
              "        const buttonEl =\n",
              "          document.querySelector('#df-9637e503-e971-4ccb-bc7e-50e7eb0374f6 button.colab-df-convert');\n",
              "        buttonEl.style.display =\n",
              "          google.colab.kernel.accessAllowed ? 'block' : 'none';\n",
              "\n",
              "        async function convertToInteractive(key) {\n",
              "          const element = document.querySelector('#df-9637e503-e971-4ccb-bc7e-50e7eb0374f6');\n",
              "          const dataTable =\n",
              "            await google.colab.kernel.invokeFunction('convertToInteractive',\n",
              "                                                     [key], {});\n",
              "          if (!dataTable) return;\n",
              "\n",
              "          const docLinkHtml = 'Like what you see? Visit the ' +\n",
              "            '<a target=\"_blank\" href=https://colab.research.google.com/notebooks/data_table.ipynb>data table notebook</a>'\n",
              "            + ' to learn more about interactive tables.';\n",
              "          element.innerHTML = '';\n",
              "          dataTable['output_type'] = 'display_data';\n",
              "          await google.colab.output.renderOutput(dataTable, element);\n",
              "          const docLink = document.createElement('div');\n",
              "          docLink.innerHTML = docLinkHtml;\n",
              "          element.appendChild(docLink);\n",
              "        }\n",
              "      </script>\n",
              "    </div>\n",
              "  </div>\n",
              "  "
            ]
          },
          "metadata": {},
          "execution_count": 37
        }
      ]
    },
    {
      "cell_type": "code",
      "metadata": {
        "colab": {
          "base_uri": "https://localhost:8080/"
        },
        "id": "4tkSrWQuhFKV",
        "outputId": "119eede5-9431-43c9-d4ad-7adab8ba69ef"
      },
      "source": [
        "data['location'].unique()"
      ],
      "execution_count": 38,
      "outputs": [
        {
          "output_type": "execute_result",
          "data": {
            "text/plain": [
              "array(['India', 'Israel', 'Japan'], dtype=object)"
            ]
          },
          "metadata": {},
          "execution_count": 38
        }
      ]
    },
    {
      "cell_type": "code",
      "metadata": {
        "id": "v3alsBQxhKrP"
      },
      "source": [
        "country = \"India\"\n",
        "data = data[data['location']==country]"
      ],
      "execution_count": 32,
      "outputs": []
    },
    {
      "cell_type": "code",
      "metadata": {
        "colab": {
          "base_uri": "https://localhost:8080/"
        },
        "id": "rhE-YoocPXwW",
        "outputId": "5fa7eacd-8a7c-4165-9137-7278f0d82235"
      },
      "source": [
        "data['date'] = pd.to_datetime(data['date'])\n",
        "data.sort_values('date',ascending=True,inplace=True)\n",
        "data['date'].min(), data['date'].max()"
      ],
      "execution_count": 33,
      "outputs": [
        {
          "output_type": "execute_result",
          "data": {
            "text/plain": [
              "(Timestamp('2021-01-16 00:00:00'), Timestamp('2021-07-05 00:00:00'))"
            ]
          },
          "metadata": {},
          "execution_count": 33
        }
      ]
    },
    {
      "cell_type": "code",
      "metadata": {
        "colab": {
          "base_uri": "https://localhost:8080/",
          "height": 296
        },
        "id": "Gc47TO_nPXt2",
        "outputId": "6afd6124-8373-498a-f8b5-a3cc32a5a54b"
      },
      "source": [
        "plt.xlabel('Date')\n",
        "plt.ylabel('New death')\n",
        "plt.plot(data['date'],data['new_deaths'])"
      ],
      "execution_count": 8,
      "outputs": [
        {
          "output_type": "execute_result",
          "data": {
            "text/plain": [
              "[<matplotlib.lines.Line2D at 0x7f82c5ce8bd0>]"
            ]
          },
          "metadata": {},
          "execution_count": 8
        },
        {
          "output_type": "display_data",
          "data": {
            "text/plain": [
              "<Figure size 432x288 with 1 Axes>"
            ],
            "image/png": "[encoded data removed]"
          },
          "metadata": {
            "needs_background": "light"
          }
        }
      ]
    },
    {
      "cell_type": "code",
      "metadata": {
        "colab": {
          "base_uri": "https://localhost:8080/",
          "height": 281
        },
        "id": "m-P9wtgoTXLU",
        "outputId": "f486b671-6132-4202-991f-aba46143c865"
      },
      "source": [
        "rolling_mean5 = data['new_deaths'].rolling(window = 5).mean()\n",
        "rolling_mean10 = data['new_deaths'].rolling(window = 10).mean()\n",
        "rolling_mean15 = data['new_deaths'].rolling(window = 15).mean()\n",
        "rolling_mean20 = data['new_deaths'].rolling(window = 20).mean()\n",
        "plt.plot(data['date'],data['new_deaths'], color = 'blue', label = 'Original')\n",
        "plt.plot(data['date'],rolling_mean5, color = 'red', label = 'Rolling 5 day mean')\n",
        "plt.plot(data['date'],rolling_mean10, color = 'black', label = 'Rolling 10 day mean')\n",
        "plt.plot(data['date'],rolling_mean15, color = 'orange', label = 'Rolling 15 day mean')\n",
        "plt.plot(data['date'],rolling_mean20, color = 'green', label = 'Rolling 20 day mean')\n",
        "plt.legend(loc = 'best')\n",
        "plt.title('Moving Average')\n",
        "plt.show()"
      ],
      "execution_count": 46,
      "outputs": [
        {
          "output_type": "display_data",
          "data": {
            "text/plain": [
              "<Figure size 432x288 with 1 Axes>"
            ],
            "image/png": "[encoded data removed]"
          },
          "metadata": {
            "needs_background": "light"
          }
        }
      ]
    },
    {
      "cell_type": "code",
      "metadata": {
        "colab": {
          "base_uri": "https://localhost:8080/",
          "height": 374
        },
        "id": "dcJArnSwTXJK",
        "outputId": "6f7ac05c-9c39-4102-c6f5-ab42efbc1110"
      },
      "source": [
        "data['moving_avg_5day'] = rolling_mean5\n",
        "data['moving_avg_10day'] = rolling_mean10\n",
        "data['moving_avg_15day'] = rolling_mean15\n",
        "data['moving_avg_20day'] = rolling_mean20\n",
        "data.head()"
      ],
      "execution_count": 10,
      "outputs": [
        {
          "output_type": "execute_result",
          "data": {
            "text/plain": [
              "  iso_code location       date  new_deaths  new_cases  new_tests  \\\n",
              "0      IND    India 2021-01-16         181      15144     803090   \n",
              "1      IND    India 2021-01-17         145      13788     779377   \n",
              "2      IND    India 2021-01-18         137      10050     548168   \n",
              "3      IND    India 2021-01-19         162      13816     709791   \n",
              "4      IND    India 2021-01-20         151      15244     764120   \n",
              "\n",
              "   new_vaccinations  new_cases_per_thousand  new_tests_per-thousand  \\\n",
              "0            191181                  15.144                 803.090   \n",
              "1             33120                  13.788                 779.377   \n",
              "2            229748                  10.050                 548.168   \n",
              "3            220786                  13.816                 709.791   \n",
              "4            131649                  15.244                 764.120   \n",
              "\n",
              "   new_vaccinations_per_thousand  stringency_index  moving_avg_5day  \\\n",
              "0                        191.181             68.98              NaN   \n",
              "1                         33.120             68.98              NaN   \n",
              "2                        229.748             68.98              NaN   \n",
              "3                        220.786             68.98              NaN   \n",
              "4                        131.649             68.98            155.2   \n",
              "\n",
              "   moving_avg_10day  moving_avg_15day  moving_avg_20day  \n",
              "0               NaN               NaN               NaN  \n",
              "1               NaN               NaN               NaN  \n",
              "2               NaN               NaN               NaN  \n",
              "3               NaN               NaN               NaN  \n",
              "4               NaN               NaN               NaN  "
            ],
            "text/html": [
              "\n",
              "  <div id=\"df-2c9a7bc7-74b3-478c-b291-f176a15cc24a\">\n",
              "    <div class=\"colab-df-container\">\n",
              "      <div>\n",
              "<style scoped>\n",
              "    .dataframe tbody tr th:only-of-type {\n",
              "        vertical-align: middle;\n",
              "    }\n",
              "\n",
              "    .dataframe tbody tr th {\n",
              "        vertical-align: top;\n",
              "    }\n",
              "\n",
              "    .dataframe thead th {\n",
              "        text-align: right;\n",
              "    }\n",
              "</style>\n",
              "<table border=\"1\" class=\"dataframe\">\n",
              "  <thead>\n",
              "    <tr style=\"text-align: right;\">\n",
              "      <th></th>\n",
              "      <th>iso_code</th>\n",
              "      <th>location</th>\n",
              "      <th>date</th>\n",
              "      <th>new_deaths</th>\n",
              "      <th>new_cases</th>\n",
              "      <th>new_tests</th>\n",
              "      <th>new_vaccinations</th>\n",
              "      <th>new_cases_per_thousand</th>\n",
              "      <th>new_tests_per-thousand</th>\n",
              "      <th>new_vaccinations_per_thousand</th>\n",
              "      <th>stringency_index</th>\n",
              "      <th>moving_avg_5day</th>\n",
              "      <th>moving_avg_10day</th>\n",
              "      <th>moving_avg_15day</th>\n",
              "      <th>moving_avg_20day</th>\n",
              "    </tr>\n",
              "  </thead>\n",
              "  <tbody>\n",
              "    <tr>\n",
              "      <th>0</th>\n",
              "      <td>IND</td>\n",
              "      <td>India</td>\n",
              "      <td>2021-01-16</td>\n",
              "      <td>181</td>\n",
              "      <td>15144</td>\n",
              "      <td>803090</td>\n",
              "      <td>191181</td>\n",
              "      <td>15.144</td>\n",
              "      <td>803.090</td>\n",
              "      <td>191.181</td>\n",
              "      <td>68.98</td>\n",
              "      <td>NaN</td>\n",
              "      <td>NaN</td>\n",
              "      <td>NaN</td>\n",
              "      <td>NaN</td>\n",
              "    </tr>\n",
              "    <tr>\n",
              "      <th>1</th>\n",
              "      <td>IND</td>\n",
              "      <td>India</td>\n",
              "      <td>2021-01-17</td>\n",
              "      <td>145</td>\n",
              "      <td>13788</td>\n",
              "      <td>779377</td>\n",
              "      <td>33120</td>\n",
              "      <td>13.788</td>\n",
              "      <td>779.377</td>\n",
              "      <td>33.120</td>\n",
              "      <td>68.98</td>\n",
              "      <td>NaN</td>\n",
              "      <td>NaN</td>\n",
              "      <td>NaN</td>\n",
              "      <td>NaN</td>\n",
              "    </tr>\n",
              "    <tr>\n",
              "      <th>2</th>\n",
              "      <td>IND</td>\n",
              "      <td>India</td>\n",
              "      <td>2021-01-18</td>\n",
              "      <td>137</td>\n",
              "      <td>10050</td>\n",
              "      <td>548168</td>\n",
              "      <td>229748</td>\n",
              "      <td>10.050</td>\n",
              "      <td>548.168</td>\n",
              "      <td>229.748</td>\n",
              "      <td>68.98</td>\n",
              "      <td>NaN</td>\n",
              "      <td>NaN</td>\n",
              "      <td>NaN</td>\n",
              "      <td>NaN</td>\n",
              "    </tr>\n",
              "    <tr>\n",
              "      <th>3</th>\n",
              "      <td>IND</td>\n",
              "      <td>India</td>\n",
              "      <td>2021-01-19</td>\n",
              "      <td>162</td>\n",
              "      <td>13816</td>\n",
              "      <td>709791</td>\n",
              "      <td>220786</td>\n",
              "      <td>13.816</td>\n",
              "      <td>709.791</td>\n",
              "      <td>220.786</td>\n",
              "      <td>68.98</td>\n",
              "      <td>NaN</td>\n",
              "      <td>NaN</td>\n",
              "      <td>NaN</td>\n",
              "      <td>NaN</td>\n",
              "    </tr>\n",
              "    <tr>\n",
              "      <th>4</th>\n",
              "      <td>IND</td>\n",
              "      <td>India</td>\n",
              "      <td>2021-01-20</td>\n",
              "      <td>151</td>\n",
              "      <td>15244</td>\n",
              "      <td>764120</td>\n",
              "      <td>131649</td>\n",
              "      <td>15.244</td>\n",
              "      <td>764.120</td>\n",
              "      <td>131.649</td>\n",
              "      <td>68.98</td>\n",
              "      <td>155.2</td>\n",
              "      <td>NaN</td>\n",
              "      <td>NaN</td>\n",
              "      <td>NaN</td>\n",
              "    </tr>\n",
              "  </tbody>\n",
              "</table>\n",
              "</div>\n",
              "      <button class=\"colab-df-convert\" onclick=\"convertToInteractive('df-2c9a7bc7-74b3-478c-b291-f176a15cc24a')\"\n",
              "              title=\"Convert this dataframe to an interactive table.\"\n",
              "              style=\"display:none;\">\n",
              "        \n",
              "  <svg xmlns=\"http://www.w3.org/2000/svg\" height=\"24px\"viewBox=\"0 0 24 24\"\n",
              "       width=\"24px\">\n",
              "    <path d=\"M0 0h24v24H0V0z\" fill=\"none\"/>\n",
              "    <path d=\"M18.56 5.44l.94 2.06.94-2.06 2.06-.94-2.06-.94-.94-2.06-.94 2.06-2.06.94zm-11 1L8.5 8.5l.94-2.06 2.06-.94-2.06-.94L8.5 2.5l-.94 2.06-2.06.94zm10 10l.94 2.06.94-2.06 2.06-.94-2.06-.94-.94-2.06-.94 2.06-2.06.94z\"/><path d=\"M17.41 7.96l-1.37-1.37c-.4-.4-.92-.59-1.43-.59-.52 0-1.04.2-1.43.59L10.3 9.45l-7.72 7.72c-.78.78-.78 2.05 0 2.83L4 21.41c.39.39.9.59 1.41.59.51 0 1.02-.2 1.41-.59l7.78-7.78 2.81-2.81c.8-.78.8-2.07 0-2.86zM5.41 20L4 18.59l7.72-7.72 1.47 1.35L5.41 20z\"/>\n",
              "  </svg>\n",
              "      </button>\n",
              "      \n",
              "  <style>\n",
              "    .colab-df-container {\n",
              "      display:flex;\n",
              "      flex-wrap:wrap;\n",
              "      gap: 12px;\n",
              "    }\n",
              "\n",
              "    .colab-df-convert {\n",
              "      background-color: #E8F0FE;\n",
              "      border: none;\n",
              "      border-radius: 50%;\n",
              "      cursor: pointer;\n",
              "      display: none;\n",
              "      fill: #1967D2;\n",
              "      height: 32px;\n",
              "      padding: 0 0 0 0;\n",
              "      width: 32px;\n",
              "    }\n",
              "\n",
              "    .colab-df-convert:hover {\n",
              "      background-color: #E2EBFA;\n",
              "      box-shadow: 0px 1px 2px rgba(60, 64, 67, 0.3), 0px 1px 3px 1px rgba(60, 64, 67, 0.15);\n",
              "      fill: #174EA6;\n",
              "    }\n",
              "\n",
              "    [theme=dark] .colab-df-convert {\n",
              "      background-color: #3B4455;\n",
              "      fill: #D2E3FC;\n",
              "    }\n",
              "\n",
              "    [theme=dark] .colab-df-convert:hover {\n",
              "      background-color: #434B5C;\n",
              "      box-shadow: 0px 1px 3px 1px rgba(0, 0, 0, 0.15);\n",
              "      filter: drop-shadow(0px 1px 2px rgba(0, 0, 0, 0.3));\n",
              "      fill: #FFFFFF;\n",
              "    }\n",
              "  </style>\n",
              "\n",
              "      <script>\n",
              "        const buttonEl =\n",
              "          document.querySelector('#df-2c9a7bc7-74b3-478c-b291-f176a15cc24a button.colab-df-convert');\n",
              "        buttonEl.style.display =\n",
              "          google.colab.kernel.accessAllowed ? 'block' : 'none';\n",
              "\n",
              "        async function convertToInteractive(key) {\n",
              "          const element = document.querySelector('#df-2c9a7bc7-74b3-478c-b291-f176a15cc24a');\n",
              "          const dataTable =\n",
              "            await google.colab.kernel.invokeFunction('convertToInteractive',\n",
              "                                                     [key], {});\n",
              "          if (!dataTable) return;\n",
              "\n",
              "          const docLinkHtml = 'Like what you see? Visit the ' +\n",
              "            '<a target=\"_blank\" href=https://colab.research.google.com/notebooks/data_table.ipynb>data table notebook</a>'\n",
              "            + ' to learn more about interactive tables.';\n",
              "          element.innerHTML = '';\n",
              "          dataTable['output_type'] = 'display_data';\n",
              "          await google.colab.output.renderOutput(dataTable, element);\n",
              "          const docLink = document.createElement('div');\n",
              "          docLink.innerHTML = docLinkHtml;\n",
              "          element.appendChild(docLink);\n",
              "        }\n",
              "      </script>\n",
              "    </div>\n",
              "  </div>\n",
              "  "
            ]
          },
          "metadata": {},
          "execution_count": 10
        }
      ]
    },
    {
      "cell_type": "code",
      "metadata": {
        "id": "gnVuVS8bWg4F"
      },
      "source": [
        "data.dropna(inplace=True)"
      ],
      "execution_count": 11,
      "outputs": []
    },
    {
      "cell_type": "code",
      "metadata": {
        "colab": {
          "base_uri": "https://localhost:8080/",
          "height": 283
        },
        "id": "a8uEGDuLXVef",
        "outputId": "e61428f1-6aca-4e1b-c939-f713cfad8e1e"
      },
      "source": [
        "autocorrelation_plot(data['new_cases'])\n",
        "plt.show()"
      ],
      "execution_count": 12,
      "outputs": [
        {
          "output_type": "display_data",
          "data": {
            "text/plain": [
              "<Figure size 432x288 with 1 Axes>"
            ],
            "image/png": "[encoded data removed]"
          },
          "metadata": {
            "needs_background": "light"
          }
        }
      ]
    },
    {
      "cell_type": "code",
      "metadata": {
        "colab": {
          "base_uri": "https://localhost:8080/",
          "height": 499
        },
        "id": "t7owWq3hbJTd",
        "outputId": "0151de7c-ec00-4a05-cff2-73b60ac66797"
      },
      "source": [
        "from statsmodels.graphics.tsaplots import plot_acf,plot_pacf\n",
        "import statsmodels.api as sm\n",
        "fig = plt.figure(figsize=(12,8))\n",
        "ax1 = fig.add_subplot(211)\n",
        "fig = sm.graphics.tsa.plot_acf(data['new_deaths'].dropna(),lags=50,ax=ax1)\n",
        "ax2 = fig.add_subplot(212)\n",
        "fig = sm.graphics.tsa.plot_pacf(data['new_deaths'].dropna(),lags=50,ax=ax2)\n"
      ],
      "execution_count": 13,
      "outputs": [
        {
          "output_type": "display_data",
          "data": {
            "text/plain": [
              "<Figure size 864x576 with 2 Axes>"
            ],
            "image/png": "[encoded data removed]"
          },
          "metadata": {
            "needs_background": "light"
          }
        }
      ]
    },
    {
      "cell_type": "code",
      "metadata": {
        "colab": {
          "base_uri": "https://localhost:8080/"
        },
        "id": "6fMNvFZiXVbs",
        "outputId": "b69b4c4b-8f4b-400f-c153-e4ae67cdb8eb"
      },
      "source": [
        "# 1,1,0 ARIMA Model\n",
        "model = ARIMA(data.new_deaths, order=(1,1,0))\n",
        "model_fit = model.fit()\n",
        "print(model_fit.summary())"
      ],
      "execution_count": 14,
      "outputs": [
        {
          "output_type": "stream",
          "name": "stdout",
          "text": [
            "                             ARIMA Model Results                              \n",
            "==============================================================================\n",
            "Dep. Variable:           D.new_deaths   No. Observations:                  136\n",
            "Model:                 ARIMA(1, 1, 0)   Log Likelihood               -1051.428\n",
            "Method:                       css-mle   S.D. of innovations            550.949\n",
            "Date:                Sat, 08 Oct 2022   AIC                           2108.857\n",
            "Time:                        15:30:35   BIC                           2117.595\n",
            "Sample:                             1   HQIC                          2112.408\n",
            "                                                                              \n",
            "======================================================================================\n",
            "                         coef    std err          z      P>|z|      [0.025      0.975]\n",
            "--------------------------------------------------------------------------------------\n",
            "const                  3.5856     34.798      0.103      0.918     -64.617      71.788\n",
            "ar.L1.D.new_deaths    -0.3603      0.080     -4.529      0.000      -0.516      -0.204\n",
            "                                    Roots                                    \n",
            "=============================================================================\n",
            "                  Real          Imaginary           Modulus         Frequency\n",
            "-----------------------------------------------------------------------------\n",
            "AR.1           -2.7754           +0.0000j            2.7754            0.5000\n",
            "-----------------------------------------------------------------------------\n"
          ]
        },
        {
          "output_type": "stream",
          "name": "stderr",
          "text": [
            "/usr/local/lib/python3.7/dist-packages/statsmodels/tsa/arima_model.py:472: FutureWarning: \n",
            "statsmodels.tsa.arima_model.ARMA and statsmodels.tsa.arima_model.ARIMA have\n",
            "been deprecated in favor of statsmodels.tsa.arima.model.ARIMA (note the .\n",
            "between arima and model) and\n",
            "statsmodels.tsa.SARIMAX. These will be removed after the 0.12 release.\n",
            "\n",
            "statsmodels.tsa.arima.model.ARIMA makes use of the statespace framework and\n",
            "is both well tested and maintained.\n",
            "\n",
            "To silence this warning and continue using ARMA and ARIMA until they are\n",
            "removed, use:\n",
            "\n",
            "import warnings\n",
            "warnings.filterwarnings('ignore', 'statsmodels.tsa.arima_model.ARMA',\n",
            "                        FutureWarning)\n",
            "warnings.filterwarnings('ignore', 'statsmodels.tsa.arima_model.ARIMA',\n",
            "                        FutureWarning)\n",
            "\n",
            "  warnings.warn(ARIMA_DEPRECATION_WARN, FutureWarning)\n",
            "/usr/local/lib/python3.7/dist-packages/statsmodels/tsa/base/tsa_model.py:579: ValueWarning: An unsupported index was provided and will be ignored when e.g. forecasting.\n",
            "  ' ignored when e.g. forecasting.', ValueWarning)\n",
            "/usr/local/lib/python3.7/dist-packages/statsmodels/tsa/base/tsa_model.py:579: ValueWarning: An unsupported index was provided and will be ignored when e.g. forecasting.\n",
            "  ' ignored when e.g. forecasting.', ValueWarning)\n"
          ]
        }
      ]
    },
    {
      "cell_type": "code",
      "metadata": {
        "colab": {
          "base_uri": "https://localhost:8080/"
        },
        "id": "T_kUB7QTeflV",
        "outputId": "2b76ef2d-258d-4e96-e6b6-5e366bfbee59"
      },
      "source": [
        "# 1,1,0 ARIMA Model\n",
        "model = ARIMA(data.new_deaths, order=(5,1,0))\n",
        "model_fit = model.fit()\n",
        "print(model_fit.summary())"
      ],
      "execution_count": 15,
      "outputs": [
        {
          "output_type": "stream",
          "name": "stderr",
          "text": [
            "/usr/local/lib/python3.7/dist-packages/statsmodels/tsa/arima_model.py:472: FutureWarning: \n",
            "statsmodels.tsa.arima_model.ARMA and statsmodels.tsa.arima_model.ARIMA have\n",
            "been deprecated in favor of statsmodels.tsa.arima.model.ARIMA (note the .\n",
            "between arima and model) and\n",
            "statsmodels.tsa.SARIMAX. These will be removed after the 0.12 release.\n",
            "\n",
            "statsmodels.tsa.arima.model.ARIMA makes use of the statespace framework and\n",
            "is both well tested and maintained.\n",
            "\n",
            "To silence this warning and continue using ARMA and ARIMA until they are\n",
            "removed, use:\n",
            "\n",
            "import warnings\n",
            "warnings.filterwarnings('ignore', 'statsmodels.tsa.arima_model.ARMA',\n",
            "                        FutureWarning)\n",
            "warnings.filterwarnings('ignore', 'statsmodels.tsa.arima_model.ARIMA',\n",
            "                        FutureWarning)\n",
            "\n",
            "  warnings.warn(ARIMA_DEPRECATION_WARN, FutureWarning)\n",
            "/usr/local/lib/python3.7/dist-packages/statsmodels/tsa/base/tsa_model.py:579: ValueWarning: An unsupported index was provided and will be ignored when e.g. forecasting.\n",
            "  ' ignored when e.g. forecasting.', ValueWarning)\n",
            "/usr/local/lib/python3.7/dist-packages/statsmodels/tsa/base/tsa_model.py:579: ValueWarning: An unsupported index was provided and will be ignored when e.g. forecasting.\n",
            "  ' ignored when e.g. forecasting.', ValueWarning)\n"
          ]
        },
        {
          "output_type": "stream",
          "name": "stdout",
          "text": [
            "                             ARIMA Model Results                              \n",
            "==============================================================================\n",
            "Dep. Variable:           D.new_deaths   No. Observations:                  136\n",
            "Model:                 ARIMA(5, 1, 0)   Log Likelihood               -1046.044\n",
            "Method:                       css-mle   S.D. of innovations            529.180\n",
            "Date:                Sat, 08 Oct 2022   AIC                           2106.088\n",
            "Time:                        15:30:35   BIC                           2126.477\n",
            "Sample:                             1   HQIC                          2114.373\n",
            "                                                                              \n",
            "======================================================================================\n",
            "                         coef    std err          z      P>|z|      [0.025      0.975]\n",
            "--------------------------------------------------------------------------------------\n",
            "const                  4.2815     24.706      0.173      0.862     -44.142      52.705\n",
            "ar.L1.D.new_deaths    -0.4356      0.085     -5.115      0.000      -0.602      -0.269\n",
            "ar.L2.D.new_deaths    -0.2243      0.092     -2.429      0.015      -0.405      -0.043\n",
            "ar.L3.D.new_deaths     0.0125      0.094      0.133      0.894      -0.172       0.197\n",
            "ar.L4.D.new_deaths    -0.1075      0.092     -1.174      0.241      -0.287       0.072\n",
            "ar.L5.D.new_deaths    -0.0948      0.084     -1.130      0.259      -0.259       0.070\n",
            "                                    Roots                                    \n",
            "=============================================================================\n",
            "                  Real          Imaginary           Modulus         Frequency\n",
            "-----------------------------------------------------------------------------\n",
            "AR.1            1.1312           -1.2178j            1.6622           -0.1309\n",
            "AR.2            1.1312           +1.2178j            1.6622            0.1309\n",
            "AR.3           -0.7268           -1.1987j            1.4018           -0.3368\n",
            "AR.4           -0.7268           +1.1987j            1.4018            0.3368\n",
            "AR.5           -1.9427           -0.0000j            1.9427           -0.5000\n",
            "-----------------------------------------------------------------------------\n"
          ]
        }
      ]
    },
    {
      "cell_type": "code",
      "metadata": {
        "colab": {
          "base_uri": "https://localhost:8080/",
          "height": 612
        },
        "id": "e9-T-1AtXVZA",
        "outputId": "de8013ea-e6ca-4614-a2a4-5c6b2a820a4d"
      },
      "source": [
        "X = data['new_deaths'].values\n",
        "size = int(len(X) * 0.90)\n",
        "train, test = X[0:size], X[size:len(X)]\n",
        "traindf, testdf = data[0:size], data[size:len(X)]\n",
        "history = [x for x in train]\n",
        "predictions = list()\n",
        "# walk-forward validation\n",
        "for t in range(len(test)):\n",
        "\tmodel = ARIMA(history, order=(1,1,0))\n",
        "\tmodel_fit = model.fit()\n",
        "\toutput = model_fit.forecast()\n",
        "\tyhat = output[0]\n",
        "\tpredictions.append(yhat)\n",
        "\tobs = test[t]\n",
        "\thistory.append(obs)\n",
        "\t# print('predicted=%f, expected=%f' % (yhat, obs))\n",
        "# evaluate forecasts\n",
        "mae = mean_absolute_error(test, predictions)\n",
        "print('Test MAE: %.3f' % mae)\n",
        "# plot forecasts against actual outcomes\n",
        "plt.plot(test)\n",
        "plt.plot(predictions, color='red')\n",
        "plt.show()"
      ],
      "execution_count": 16,
      "outputs": [
        {
          "output_type": "stream",
          "name": "stderr",
          "text": [
            "/usr/local/lib/python3.7/dist-packages/statsmodels/tsa/arima_model.py:472: FutureWarning: \n",
            "statsmodels.tsa.arima_model.ARMA and statsmodels.tsa.arima_model.ARIMA have\n",
            "been deprecated in favor of statsmodels.tsa.arima.model.ARIMA (note the .\n",
            "between arima and model) and\n",
            "statsmodels.tsa.SARIMAX. These will be removed after the 0.12 release.\n",
            "\n",
            "statsmodels.tsa.arima.model.ARIMA makes use of the statespace framework and\n",
            "is both well tested and maintained.\n",
            "\n",
            "To silence this warning and continue using ARMA and ARIMA until they are\n",
            "removed, use:\n",
            "\n",
            "import warnings\n",
            "warnings.filterwarnings('ignore', 'statsmodels.tsa.arima_model.ARMA',\n",
            "                        FutureWarning)\n",
            "warnings.filterwarnings('ignore', 'statsmodels.tsa.arima_model.ARIMA',\n",
            "                        FutureWarning)\n",
            "\n",
            "  warnings.warn(ARIMA_DEPRECATION_WARN, FutureWarning)\n"
          ]
        },
        {
          "output_type": "stream",
          "name": "stdout",
          "text": [
            "Test MAE: 133.598\n"
          ]
        },
        {
          "output_type": "display_data",
          "data": {
            "text/plain": [
              "<Figure size 432x288 with 1 Axes>"
            ],
            "image/png": "[encoded data removed]"
          },
          "metadata": {
            "needs_background": "light"
          }
        }
      ]
    },
    {
      "cell_type": "code",
      "metadata": {
        "id": "cPwLwTSTPXp2"
      },
      "source": [
        "mae5day = mean_absolute_error(testdf['new_deaths'], testdf['moving_avg_5day'])\n",
        "mae10day = mean_absolute_error(testdf['new_deaths'], testdf['moving_avg_10day'])\n",
        "mae15day = mean_absolute_error(testdf['new_deaths'], testdf['moving_avg_15day'])\n",
        "mae20day = mean_absolute_error(testdf['new_deaths'], testdf['moving_avg_20day'])"
      ],
      "execution_count": 17,
      "outputs": []
    },
    {
      "cell_type": "code",
      "metadata": {
        "id": "8H_DPJELOuOl",
        "colab": {
          "base_uri": "https://localhost:8080/"
        },
        "outputId": "fb5f346c-f604-4772-b4c2-dc9aec47e4bf"
      },
      "source": [
        "print(f'Mean absolute error from 5day moving average prediction: {mae5day}')\n",
        "print(f'Mean absolute error from 10day moving average prediction: {mae10day}')\n",
        "print(f'Mean absolute error from 15day moving average prediction: {mae15day}')\n",
        "print(f'Mean absolute error from 20day moving average prediction: {mae20day}')"
      ],
      "execution_count": 18,
      "outputs": [
        {
          "output_type": "stream",
          "name": "stdout",
          "text": [
            "Mean absolute error from 5day moving average prediction: 110.38571428571426\n",
            "Mean absolute error from 10day moving average prediction: 297.4928571428572\n",
            "Mean absolute error from 15day moving average prediction: 670.4666666666666\n",
            "Mean absolute error from 20day moving average prediction: 991.2785714285712\n"
          ]
        }
      ]
    },
    {
      "cell_type": "code",
      "source": [],
      "metadata": {
        "id": "VtDjXRp-b-_k"
      },
      "execution_count": 18,
      "outputs": []
    },
    {
      "cell_type": "markdown",
      "source": [
        "## data for ml Predictions"
      ],
      "metadata": {
        "id": "98f9hVPzb7DY"
      }
    },
    {
      "cell_type": "code",
      "source": [
        "x = df.iloc[:156, :-1]\n",
        "y = df.iloc[:156, -1]\n",
        "y.shape"
      ],
      "metadata": {
        "colab": {
          "base_uri": "https://localhost:8080/"
        },
        "id": "EOxajJa8cGsm",
        "outputId": "722ceb1e-21bc-4ac1-d92f-effcd1fc8f1a"
      },
      "execution_count": 39,
      "outputs": [
        {
          "output_type": "execute_result",
          "data": {
            "text/plain": [
              "(156,)"
            ]
          },
          "metadata": {},
          "execution_count": 39
        }
      ]
    },
    {
      "cell_type": "code",
      "source": [
        "n = int(len(x)*0.9)\n",
        "xTrain = x[:n]\n",
        "yTrain = y[:n]\n",
        "\n",
        "xTest, yTest = x[n:], y[n:]"
      ],
      "metadata": {
        "id": "mtq6y_cPfRqa"
      },
      "execution_count": 40,
      "outputs": []
    },
    {
      "cell_type": "markdown",
      "source": [
        "## **Using SGDregressor**"
      ],
      "metadata": {
        "id": "5Dpp_IVCexHm"
      }
    },
    {
      "cell_type": "code",
      "source": [
        "import numpy as np\n",
        "from sklearn.linear_model import SGDRegressor\n",
        "from sklearn.pipeline import make_pipeline\n",
        "from sklearn.preprocessing import StandardScaler\n",
        "\n",
        "\n",
        "# Always scale the input. The most convenient way is to use a pipeline.\n",
        "reg = make_pipeline(StandardScaler(),SGDRegressor(max_iter=1000, tol=1e-3, alpha =0))\n",
        "reg.fit(x,y)"
      ],
      "metadata": {
        "colab": {
          "base_uri": "https://localhost:8080/"
        },
        "id": "9F2qB0I5f8xY",
        "outputId": "efa51ffa-1777-4a30-b0f9-27c59f53e7cb"
      },
      "execution_count": 41,
      "outputs": [
        {
          "output_type": "execute_result",
          "data": {
            "text/plain": [
              "Pipeline(steps=[('standardscaler', StandardScaler()),\n",
              "                ('sgdregressor', SGDRegressor(alpha=0))])"
            ]
          },
          "metadata": {},
          "execution_count": 41
        }
      ]
    },
    {
      "cell_type": "code",
      "source": [
        "predictionsSGD = reg.predict(x)\n",
        "# reg.score(predictions, yTest)"
      ],
      "metadata": {
        "id": "l4dvdaDXhuiU"
      },
      "execution_count": 42,
      "outputs": []
    },
    {
      "cell_type": "code",
      "source": [
        "from matplotlib import pyplot as plt"
      ],
      "metadata": {
        "id": "LaZSRn8pPeCK"
      },
      "execution_count": 47,
      "outputs": []
    },
    {
      "cell_type": "code",
      "source": [
        "plt.plot(data['date'][:156],data['new_deaths'][:156], color = 'blue', label = 'Original')\n",
        "plt.plot(data['date'][:156],predictionsSGD, color = 'red', label = 'sgdregressor')\n",
        "plt.legend(loc = 'best')\n",
        "plt.show()"
      ],
      "metadata": {
        "colab": {
          "base_uri": "https://localhost:8080/",
          "height": 265
        },
        "id": "BFmmNYusiE8V",
        "outputId": "9c2e6e27-4177-4339-c9b9-6aa541ac49f0"
      },
      "execution_count": 48,
      "outputs": [
        {
          "output_type": "display_data",
          "data": {
            "text/plain": [
              "<Figure size 432x288 with 1 Axes>"
            ],
            "image/png": "[encoded data removed]"
          },
          "metadata": {
            "needs_background": "light"
          }
        }
      ]
    },
    {
      "cell_type": "code",
      "source": [],
      "metadata": {
        "id": "ITnKsnf3h3xI"
      },
      "execution_count": 43,
      "outputs": []
    },
    {
      "cell_type": "markdown",
      "source": [
        "## **Using Random Forest Regressor**"
      ],
      "metadata": {
        "id": "EdEvSB6sIiBA"
      }
    },
    {
      "cell_type": "code",
      "metadata": {
        "id": "B-0WzlSMOuMe",
        "colab": {
          "base_uri": "https://localhost:8080/"
        },
        "outputId": "03035a6a-0185-4ba9-852e-fa8a00652347"
      },
      "source": [
        "from sklearn.ensemble import RandomForestRegressor\n",
        "from sklearn.datasets import make_regression\n",
        "\n",
        "regr = RandomForestRegressor(max_depth=1, random_state=0, max_features= 4)\n",
        "regr.fit(x, y)"
      ],
      "execution_count": 63,
      "outputs": [
        {
          "output_type": "execute_result",
          "data": {
            "text/plain": [
              "RandomForestRegressor(max_depth=1, max_features=4, random_state=0)"
            ]
          },
          "metadata": {},
          "execution_count": 63
        }
      ]
    },
    {
      "cell_type": "code",
      "source": [
        "predictionsRF = regr.predict(x)"
      ],
      "metadata": {
        "id": "xKOnEsXZPsKH"
      },
      "execution_count": 64,
      "outputs": []
    },
    {
      "cell_type": "code",
      "source": [
        "plt.plot(data['date'][:156],data['new_deaths'][:156], color = 'blue', label = 'Original')\n",
        "plt.plot(data['date'][:156],predictionsRF, color = 'red', label = 'random forest')\n",
        "plt.legend(loc = 'best')\n",
        "plt.show()"
      ],
      "metadata": {
        "colab": {
          "base_uri": "https://localhost:8080/",
          "height": 265
        },
        "id": "mFrheugzPxqB",
        "outputId": "79b2f158-5e46-4258-af29-0391594456de"
      },
      "execution_count": 65,
      "outputs": [
        {
          "output_type": "display_data",
          "data": {
            "text/plain": [
              "<Figure size 432x288 with 1 Axes>"
            ],
            "image/png": "[encoded data removed]"
          },
          "metadata": {
            "needs_background": "light"
          }
        }
      ]
    },
    {
      "cell_type": "markdown",
      "source": [
        "## USING SVM REGRESSION"
      ],
      "metadata": {
        "id": "2yUt1SxFajLp"
      }
    },
    {
      "cell_type": "code",
      "source": [
        "from sklearn.svm import SVR\n",
        "from sklearn.pipeline import make_pipeline\n",
        "from sklearn.preprocessing import StandardScaler\n"
      ],
      "metadata": {
        "id": "aMxkdSwpP21M"
      },
      "execution_count": 67,
      "outputs": []
    },
    {
      "cell_type": "code",
      "source": [
        "regr = make_pipeline(StandardScaler(), SVR(C=1.0, epsilon=0.2, kernel='rbf'))\n",
        "regr.fit(x, y)\n",
        "predictionsSVM = reg.predict(x)"
      ],
      "metadata": {
        "id": "DN62a9HdashL"
      },
      "execution_count": 68,
      "outputs": []
    },
    {
      "cell_type": "code",
      "source": [
        "plt.plot(data['date'][:156],data['new_deaths'][:156], color = 'blue', label = 'Original')\n",
        "plt.plot(data['date'][:156],predictionsSVM, color = 'red', label = 'svm')\n",
        "plt.legend(loc = 'best')\n",
        "plt.show()"
      ],
      "metadata": {
        "colab": {
          "base_uri": "https://localhost:8080/",
          "height": 265
        },
        "id": "_DNR7a2BbNSQ",
        "outputId": "4efa0255-b52e-467a-b9ac-eda9849068b3"
      },
      "execution_count": 69,
      "outputs": [
        {
          "output_type": "display_data",
          "data": {
            "text/plain": [
              "<Figure size 432x288 with 1 Axes>"
            ],
            "image/png": "[encoded data removed]"
          },
          "metadata": {
            "needs_background": "light"
          }
        }
      ]
    },
    {
      "cell_type": "code",
      "source": [],
      "metadata": {
        "id": "Jo3aX_GrbXwK"
      },
      "execution_count": null,
      "outputs": []
    }
  ]
}